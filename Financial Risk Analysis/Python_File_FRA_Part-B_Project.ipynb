{
 "cells": [
  {
   "cell_type": "code",
   "execution_count": 2,
   "id": "48fc2a89",
   "metadata": {},
   "outputs": [],
   "source": [
    "# Importing the libraries\n",
    "import numpy as np\n",
    "import matplotlib.pyplot as plt\n",
    "%matplotlib inline\n",
    "import pandas as pd\n",
    "import seaborn as sns # for making plots with seaborn\n",
    "color = sns.color_palette()\n",
    "import sklearn.metrics as metrics\n",
    "import warnings\n",
    "warnings.filterwarnings(\"ignore\")"
   ]
  },
  {
   "cell_type": "code",
   "execution_count": 3,
   "id": "1b6428b0",
   "metadata": {},
   "outputs": [
    {
     "data": {
      "text/html": [
       "<div>\n",
       "<style scoped>\n",
       "    .dataframe tbody tr th:only-of-type {\n",
       "        vertical-align: middle;\n",
       "    }\n",
       "\n",
       "    .dataframe tbody tr th {\n",
       "        vertical-align: top;\n",
       "    }\n",
       "\n",
       "    .dataframe thead th {\n",
       "        text-align: right;\n",
       "    }\n",
       "</style>\n",
       "<table border=\"1\" class=\"dataframe\">\n",
       "  <thead>\n",
       "    <tr style=\"text-align: right;\">\n",
       "      <th></th>\n",
       "      <th>Date</th>\n",
       "      <th>Infosys</th>\n",
       "      <th>Indian Hotel</th>\n",
       "      <th>Mahindra &amp; Mahindra</th>\n",
       "      <th>Axis Bank</th>\n",
       "      <th>SAIL</th>\n",
       "      <th>Shree Cement</th>\n",
       "      <th>Sun Pharma</th>\n",
       "      <th>Jindal Steel</th>\n",
       "      <th>Idea Vodafone</th>\n",
       "      <th>Jet Airways</th>\n",
       "    </tr>\n",
       "  </thead>\n",
       "  <tbody>\n",
       "    <tr>\n",
       "      <th>0</th>\n",
       "      <td>31-03-2014</td>\n",
       "      <td>264</td>\n",
       "      <td>69</td>\n",
       "      <td>455</td>\n",
       "      <td>263</td>\n",
       "      <td>68</td>\n",
       "      <td>5543</td>\n",
       "      <td>555</td>\n",
       "      <td>298</td>\n",
       "      <td>83</td>\n",
       "      <td>278</td>\n",
       "    </tr>\n",
       "    <tr>\n",
       "      <th>1</th>\n",
       "      <td>07-04-2014</td>\n",
       "      <td>257</td>\n",
       "      <td>68</td>\n",
       "      <td>458</td>\n",
       "      <td>276</td>\n",
       "      <td>70</td>\n",
       "      <td>5728</td>\n",
       "      <td>610</td>\n",
       "      <td>279</td>\n",
       "      <td>84</td>\n",
       "      <td>303</td>\n",
       "    </tr>\n",
       "    <tr>\n",
       "      <th>2</th>\n",
       "      <td>14-04-2014</td>\n",
       "      <td>254</td>\n",
       "      <td>68</td>\n",
       "      <td>454</td>\n",
       "      <td>270</td>\n",
       "      <td>68</td>\n",
       "      <td>5649</td>\n",
       "      <td>607</td>\n",
       "      <td>279</td>\n",
       "      <td>83</td>\n",
       "      <td>280</td>\n",
       "    </tr>\n",
       "    <tr>\n",
       "      <th>3</th>\n",
       "      <td>21-04-2014</td>\n",
       "      <td>253</td>\n",
       "      <td>68</td>\n",
       "      <td>488</td>\n",
       "      <td>283</td>\n",
       "      <td>68</td>\n",
       "      <td>5692</td>\n",
       "      <td>604</td>\n",
       "      <td>274</td>\n",
       "      <td>83</td>\n",
       "      <td>282</td>\n",
       "    </tr>\n",
       "    <tr>\n",
       "      <th>4</th>\n",
       "      <td>28-04-2014</td>\n",
       "      <td>256</td>\n",
       "      <td>65</td>\n",
       "      <td>482</td>\n",
       "      <td>282</td>\n",
       "      <td>63</td>\n",
       "      <td>5582</td>\n",
       "      <td>611</td>\n",
       "      <td>238</td>\n",
       "      <td>79</td>\n",
       "      <td>243</td>\n",
       "    </tr>\n",
       "  </tbody>\n",
       "</table>\n",
       "</div>"
      ],
      "text/plain": [
       "         Date  Infosys  Indian Hotel  Mahindra & Mahindra  Axis Bank  SAIL  \\\n",
       "0  31-03-2014      264            69                  455        263    68   \n",
       "1  07-04-2014      257            68                  458        276    70   \n",
       "2  14-04-2014      254            68                  454        270    68   \n",
       "3  21-04-2014      253            68                  488        283    68   \n",
       "4  28-04-2014      256            65                  482        282    63   \n",
       "\n",
       "   Shree Cement  Sun Pharma  Jindal Steel  Idea Vodafone  Jet Airways  \n",
       "0          5543         555           298             83          278  \n",
       "1          5728         610           279             84          303  \n",
       "2          5649         607           279             83          280  \n",
       "3          5692         604           274             83          282  \n",
       "4          5582         611           238             79          243  "
      ]
     },
     "execution_count": 3,
     "metadata": {},
     "output_type": "execute_result"
    }
   ],
   "source": [
    "df=pd.read_csv(\"Market+Risk+Dataset.csv\")\n",
    "df.head()"
   ]
  },
  {
   "cell_type": "code",
   "execution_count": 4,
   "id": "ad9cf60c",
   "metadata": {},
   "outputs": [],
   "source": [
    "df.columns=df.columns.str.replace(' ', '_')"
   ]
  },
  {
   "cell_type": "code",
   "execution_count": 5,
   "id": "76c3a521",
   "metadata": {},
   "outputs": [
    {
     "name": "stdout",
     "output_type": "stream",
     "text": [
      "<class 'pandas.core.frame.DataFrame'>\n",
      "RangeIndex: 314 entries, 0 to 313\n",
      "Data columns (total 11 columns):\n",
      " #   Column               Non-Null Count  Dtype \n",
      "---  ------               --------------  ----- \n",
      " 0   Date                 314 non-null    object\n",
      " 1   Infosys              314 non-null    int64 \n",
      " 2   Indian_Hotel         314 non-null    int64 \n",
      " 3   Mahindra_&_Mahindra  314 non-null    int64 \n",
      " 4   Axis_Bank            314 non-null    int64 \n",
      " 5   SAIL                 314 non-null    int64 \n",
      " 6   Shree_Cement         314 non-null    int64 \n",
      " 7   Sun_Pharma           314 non-null    int64 \n",
      " 8   Jindal_Steel         314 non-null    int64 \n",
      " 9   Idea_Vodafone        314 non-null    int64 \n",
      " 10  Jet_Airways          314 non-null    int64 \n",
      "dtypes: int64(10), object(1)\n",
      "memory usage: 27.1+ KB\n"
     ]
    }
   ],
   "source": [
    "df.info()"
   ]
  },
  {
   "cell_type": "code",
   "execution_count": 6,
   "id": "34048991",
   "metadata": {},
   "outputs": [
    {
     "data": {
      "text/plain": [
       "(314, 11)"
      ]
     },
     "execution_count": 6,
     "metadata": {},
     "output_type": "execute_result"
    }
   ],
   "source": [
    "df.shape"
   ]
  },
  {
   "cell_type": "code",
   "execution_count": 7,
   "id": "4f2eb9c5",
   "metadata": {},
   "outputs": [
    {
     "data": {
      "text/plain": [
       "31-03-2014    1\n",
       "05-05-2014    1\n",
       "12-05-2014    1\n",
       "19-05-2014    1\n",
       "26-05-2014    1\n",
       "             ..\n",
       "16-03-2020    1\n",
       "23-03-2020    1\n",
       "03-02-2020    1\n",
       "10-02-2020    1\n",
       "30-03-2020    1\n",
       "Name: Date, Length: 314, dtype: int64"
      ]
     },
     "execution_count": 7,
     "metadata": {},
     "output_type": "execute_result"
    }
   ],
   "source": [
    "df.Date.value_counts().sort_values()"
   ]
  },
  {
   "cell_type": "markdown",
   "id": "b88549a9",
   "metadata": {},
   "source": [
    "PART B: Draw Stock Price Graph (Stock Price vs Time) for any 2 given stocks with inference"
   ]
  },
  {
   "cell_type": "code",
   "execution_count": 8,
   "id": "60068f01",
   "metadata": {},
   "outputs": [
    {
     "data": {
      "image/png": "[encoded data removed]",
      "text/plain": [
       "<Figure size 640x480 with 1 Axes>"
      ]
     },
     "metadata": {},
     "output_type": "display_data"
    }
   ],
   "source": [
    "df['dates'] = [pd.to_datetime(d) for d in df['Date']]\n",
    "plt.scatter(df['dates'],df['Infosys'],edgecolors='b',color='lightblue')\n",
    "plt.xlabel('Year')\n",
    "plt.ylabel('Infosys')\n",
    "plt.title('Infosys over the years')\n",
    "plt.show()"
   ]
  },
  {
   "cell_type": "code",
   "execution_count": 9,
   "id": "48d34e5b",
   "metadata": {},
   "outputs": [
    {
     "data": {
      "image/png": "[encoded data removed]",
      "text/plain": [
       "<Figure size 640x480 with 1 Axes>"
      ]
     },
     "metadata": {},
     "output_type": "display_data"
    }
   ],
   "source": [
    "df['dates'] = [pd.to_datetime(d) for d in df['Date']]\n",
    "plt.scatter(df['dates'],df['Sun_Pharma'],edgecolors='r',color='pink')\n",
    "plt.xlabel('Year')\n",
    "plt.ylabel('Sun_Pharma')\n",
    "plt.title('Sun_Pharma over the years')\n",
    "plt.show()"
   ]
  },
  {
   "cell_type": "markdown",
   "id": "2e3ed534",
   "metadata": {},
   "source": [
    "PART B: Calculate Returns for all stocks with inference"
   ]
  },
  {
   "cell_type": "code",
   "execution_count": 10,
   "id": "c1d1c71e",
   "metadata": {},
   "outputs": [],
   "source": [
    "stock_returns=np.log(df.drop(['Date','dates'],axis=1)).diff(axis=0,periods=1) "
   ]
  },
  {
   "cell_type": "code",
   "execution_count": 11,
   "id": "d77a94d0",
   "metadata": {},
   "outputs": [
    {
     "data": {
      "text/plain": [
       "(314, 10)"
      ]
     },
     "execution_count": 11,
     "metadata": {},
     "output_type": "execute_result"
    }
   ],
   "source": [
    "stock_returns.shape"
   ]
  },
  {
   "cell_type": "code",
   "execution_count": 12,
   "id": "998d015e",
   "metadata": {},
   "outputs": [
    {
     "data": {
      "text/html": [
       "<div>\n",
       "<style scoped>\n",
       "    .dataframe tbody tr th:only-of-type {\n",
       "        vertical-align: middle;\n",
       "    }\n",
       "\n",
       "    .dataframe tbody tr th {\n",
       "        vertical-align: top;\n",
       "    }\n",
       "\n",
       "    .dataframe thead th {\n",
       "        text-align: right;\n",
       "    }\n",
       "</style>\n",
       "<table border=\"1\" class=\"dataframe\">\n",
       "  <thead>\n",
       "    <tr style=\"text-align: right;\">\n",
       "      <th></th>\n",
       "      <th>Infosys</th>\n",
       "      <th>Indian_Hotel</th>\n",
       "      <th>Mahindra_&amp;_Mahindra</th>\n",
       "      <th>Axis_Bank</th>\n",
       "      <th>SAIL</th>\n",
       "      <th>Shree_Cement</th>\n",
       "      <th>Sun_Pharma</th>\n",
       "      <th>Jindal_Steel</th>\n",
       "      <th>Idea_Vodafone</th>\n",
       "      <th>Jet_Airways</th>\n",
       "    </tr>\n",
       "  </thead>\n",
       "  <tbody>\n",
       "    <tr>\n",
       "      <th>0</th>\n",
       "      <td>NaN</td>\n",
       "      <td>NaN</td>\n",
       "      <td>NaN</td>\n",
       "      <td>NaN</td>\n",
       "      <td>NaN</td>\n",
       "      <td>NaN</td>\n",
       "      <td>NaN</td>\n",
       "      <td>NaN</td>\n",
       "      <td>NaN</td>\n",
       "      <td>NaN</td>\n",
       "    </tr>\n",
       "    <tr>\n",
       "      <th>1</th>\n",
       "      <td>-0.026873</td>\n",
       "      <td>-0.014599</td>\n",
       "      <td>0.006572</td>\n",
       "      <td>0.048247</td>\n",
       "      <td>0.028988</td>\n",
       "      <td>0.032831</td>\n",
       "      <td>0.094491</td>\n",
       "      <td>-0.065882</td>\n",
       "      <td>0.011976</td>\n",
       "      <td>0.086112</td>\n",
       "    </tr>\n",
       "    <tr>\n",
       "      <th>2</th>\n",
       "      <td>-0.011742</td>\n",
       "      <td>0.000000</td>\n",
       "      <td>-0.008772</td>\n",
       "      <td>-0.021979</td>\n",
       "      <td>-0.028988</td>\n",
       "      <td>-0.013888</td>\n",
       "      <td>-0.004930</td>\n",
       "      <td>0.000000</td>\n",
       "      <td>-0.011976</td>\n",
       "      <td>-0.078943</td>\n",
       "    </tr>\n",
       "    <tr>\n",
       "      <th>3</th>\n",
       "      <td>-0.003945</td>\n",
       "      <td>0.000000</td>\n",
       "      <td>0.072218</td>\n",
       "      <td>0.047025</td>\n",
       "      <td>0.000000</td>\n",
       "      <td>0.007583</td>\n",
       "      <td>-0.004955</td>\n",
       "      <td>-0.018084</td>\n",
       "      <td>0.000000</td>\n",
       "      <td>0.007117</td>\n",
       "    </tr>\n",
       "    <tr>\n",
       "      <th>4</th>\n",
       "      <td>0.011788</td>\n",
       "      <td>-0.045120</td>\n",
       "      <td>-0.012371</td>\n",
       "      <td>-0.003540</td>\n",
       "      <td>-0.076373</td>\n",
       "      <td>-0.019515</td>\n",
       "      <td>0.011523</td>\n",
       "      <td>-0.140857</td>\n",
       "      <td>-0.049393</td>\n",
       "      <td>-0.148846</td>\n",
       "    </tr>\n",
       "    <tr>\n",
       "      <th>...</th>\n",
       "      <td>...</td>\n",
       "      <td>...</td>\n",
       "      <td>...</td>\n",
       "      <td>...</td>\n",
       "      <td>...</td>\n",
       "      <td>...</td>\n",
       "      <td>...</td>\n",
       "      <td>...</td>\n",
       "      <td>...</td>\n",
       "      <td>...</td>\n",
       "    </tr>\n",
       "    <tr>\n",
       "      <th>309</th>\n",
       "      <td>0.009649</td>\n",
       "      <td>-0.110348</td>\n",
       "      <td>0.030305</td>\n",
       "      <td>-0.057580</td>\n",
       "      <td>-0.087011</td>\n",
       "      <td>0.023688</td>\n",
       "      <td>0.072383</td>\n",
       "      <td>-0.053346</td>\n",
       "      <td>-0.287682</td>\n",
       "      <td>-0.127833</td>\n",
       "    </tr>\n",
       "    <tr>\n",
       "      <th>310</th>\n",
       "      <td>-0.139625</td>\n",
       "      <td>-0.051293</td>\n",
       "      <td>-0.093819</td>\n",
       "      <td>-0.145324</td>\n",
       "      <td>-0.095310</td>\n",
       "      <td>-0.081183</td>\n",
       "      <td>-0.043319</td>\n",
       "      <td>-0.187816</td>\n",
       "      <td>0.693147</td>\n",
       "      <td>-0.200671</td>\n",
       "    </tr>\n",
       "    <tr>\n",
       "      <th>311</th>\n",
       "      <td>-0.094207</td>\n",
       "      <td>-0.236389</td>\n",
       "      <td>-0.285343</td>\n",
       "      <td>-0.284757</td>\n",
       "      <td>-0.105361</td>\n",
       "      <td>-0.119709</td>\n",
       "      <td>-0.050745</td>\n",
       "      <td>-0.141830</td>\n",
       "      <td>-0.693147</td>\n",
       "      <td>-0.117783</td>\n",
       "    </tr>\n",
       "    <tr>\n",
       "      <th>312</th>\n",
       "      <td>0.109856</td>\n",
       "      <td>-0.182322</td>\n",
       "      <td>-0.091269</td>\n",
       "      <td>-0.173019</td>\n",
       "      <td>-0.251314</td>\n",
       "      <td>-0.067732</td>\n",
       "      <td>-0.076851</td>\n",
       "      <td>-0.165324</td>\n",
       "      <td>0.000000</td>\n",
       "      <td>-0.133531</td>\n",
       "    </tr>\n",
       "    <tr>\n",
       "      <th>313</th>\n",
       "      <td>-0.017228</td>\n",
       "      <td>0.000000</td>\n",
       "      <td>-0.031198</td>\n",
       "      <td>0.051432</td>\n",
       "      <td>0.090972</td>\n",
       "      <td>-0.006816</td>\n",
       "      <td>0.040585</td>\n",
       "      <td>-0.081917</td>\n",
       "      <td>0.000000</td>\n",
       "      <td>0.000000</td>\n",
       "    </tr>\n",
       "  </tbody>\n",
       "</table>\n",
       "<p>314 rows × 10 columns</p>\n",
       "</div>"
      ],
      "text/plain": [
       "      Infosys  Indian_Hotel  Mahindra_&_Mahindra  Axis_Bank      SAIL  \\\n",
       "0         NaN           NaN                  NaN        NaN       NaN   \n",
       "1   -0.026873     -0.014599             0.006572   0.048247  0.028988   \n",
       "2   -0.011742      0.000000            -0.008772  -0.021979 -0.028988   \n",
       "3   -0.003945      0.000000             0.072218   0.047025  0.000000   \n",
       "4    0.011788     -0.045120            -0.012371  -0.003540 -0.076373   \n",
       "..        ...           ...                  ...        ...       ...   \n",
       "309  0.009649     -0.110348             0.030305  -0.057580 -0.087011   \n",
       "310 -0.139625     -0.051293            -0.093819  -0.145324 -0.095310   \n",
       "311 -0.094207     -0.236389            -0.285343  -0.284757 -0.105361   \n",
       "312  0.109856     -0.182322            -0.091269  -0.173019 -0.251314   \n",
       "313 -0.017228      0.000000            -0.031198   0.051432  0.090972   \n",
       "\n",
       "     Shree_Cement  Sun_Pharma  Jindal_Steel  Idea_Vodafone  Jet_Airways  \n",
       "0             NaN         NaN           NaN            NaN          NaN  \n",
       "1        0.032831    0.094491     -0.065882       0.011976     0.086112  \n",
       "2       -0.013888   -0.004930      0.000000      -0.011976    -0.078943  \n",
       "3        0.007583   -0.004955     -0.018084       0.000000     0.007117  \n",
       "4       -0.019515    0.011523     -0.140857      -0.049393    -0.148846  \n",
       "..            ...         ...           ...            ...          ...  \n",
       "309      0.023688    0.072383     -0.053346      -0.287682    -0.127833  \n",
       "310     -0.081183   -0.043319     -0.187816       0.693147    -0.200671  \n",
       "311     -0.119709   -0.050745     -0.141830      -0.693147    -0.117783  \n",
       "312     -0.067732   -0.076851     -0.165324       0.000000    -0.133531  \n",
       "313     -0.006816    0.040585     -0.081917       0.000000     0.000000  \n",
       "\n",
       "[314 rows x 10 columns]"
      ]
     },
     "execution_count": 12,
     "metadata": {},
     "output_type": "execute_result"
    }
   ],
   "source": [
    "stock_returns"
   ]
  },
  {
   "cell_type": "markdown",
   "id": "b6bb457f",
   "metadata": {},
   "source": [
    "- Stock Means: Average returns that the stock is making on a week to week basis"
   ]
  },
  {
   "cell_type": "code",
   "execution_count": 24,
   "id": "0fc6dfd9",
   "metadata": {},
   "outputs": [
    {
     "name": "stdout",
     "output_type": "stream",
     "text": [
      "Infosys: 0.8745213189978598\n",
      "Indian_Hotel: 0.08338160893905044\n",
      "Mahindra_&_Mahindra: -0.471323180789744\n",
      "Axis_Bank: 0.3653821729046616\n",
      "SAIL: -1.0840134892469573\n",
      "Shree_Cement: 1.152290133268524\n",
      "Sun_Pharma: -0.45533693814833764\n",
      "Jindal_Steel: -1.2903742392411512\n",
      "Idea_Vodafone: -3.3202283191284887\n",
      "Jet_Airways: -2.9885637840753785\n"
     ]
    }
   ],
   "source": [
    "for i in stock_returns.columns:\n",
    "    print(f\"{i}: {stock_returns[i].sum()}\")"
   ]
  },
  {
   "cell_type": "markdown",
   "id": "1bea2c9c",
   "metadata": {},
   "source": [
    "PART B: Calculate Stock Means and Standard Deviation for all stocks with inference"
   ]
  },
  {
   "cell_type": "code",
   "execution_count": 14,
   "id": "b5ff5e4c",
   "metadata": {},
   "outputs": [
    {
     "data": {
      "text/plain": [
       "Infosys                0.002794\n",
       "Indian_Hotel           0.000266\n",
       "Mahindra_&_Mahindra   -0.001506\n",
       "Axis_Bank              0.001167\n",
       "SAIL                  -0.003463\n",
       "Shree_Cement           0.003681\n",
       "Sun_Pharma            -0.001455\n",
       "Jindal_Steel          -0.004123\n",
       "Idea_Vodafone         -0.010608\n",
       "Jet_Airways           -0.009548\n",
       "dtype: float64"
      ]
     },
     "execution_count": 14,
     "metadata": {},
     "output_type": "execute_result"
    }
   ],
   "source": [
    "# MEAN\n",
    "stock_means=stock_returns.mean(axis=0)\n",
    "stock_means"
   ]
  },
  {
   "cell_type": "code",
   "execution_count": 15,
   "id": "5cd78f2d",
   "metadata": {},
   "outputs": [
    {
     "data": {
      "text/plain": [
       "Infosys                0.035070\n",
       "Indian_Hotel           0.047131\n",
       "Mahindra_&_Mahindra    0.040169\n",
       "Axis_Bank              0.045828\n",
       "SAIL                   0.062188\n",
       "Shree_Cement           0.039917\n",
       "Sun_Pharma             0.045033\n",
       "Jindal_Steel           0.075108\n",
       "Idea_Vodafone          0.104315\n",
       "Jet_Airways            0.097972\n",
       "dtype: float64"
      ]
     },
     "execution_count": 15,
     "metadata": {},
     "output_type": "execute_result"
    }
   ],
   "source": [
    "# STD DEVIATION\n",
    "stock_sd=stock_returns.std(axis=0)\n",
    "stock_sd"
   ]
  },
  {
   "cell_type": "markdown",
   "id": "0cf1d56d",
   "metadata": {},
   "source": [
    "PART B: Draw a plot of Stock Means vs Standard Deviation and state your inference"
   ]
  },
  {
   "cell_type": "code",
   "execution_count": 16,
   "id": "59d295dc",
   "metadata": {},
   "outputs": [
    {
     "data": {
      "text/html": [
       "<div>\n",
       "<style scoped>\n",
       "    .dataframe tbody tr th:only-of-type {\n",
       "        vertical-align: middle;\n",
       "    }\n",
       "\n",
       "    .dataframe tbody tr th {\n",
       "        vertical-align: top;\n",
       "    }\n",
       "\n",
       "    .dataframe thead th {\n",
       "        text-align: right;\n",
       "    }\n",
       "</style>\n",
       "<table border=\"1\" class=\"dataframe\">\n",
       "  <thead>\n",
       "    <tr style=\"text-align: right;\">\n",
       "      <th></th>\n",
       "      <th>Average</th>\n",
       "      <th>Volatility</th>\n",
       "    </tr>\n",
       "  </thead>\n",
       "  <tbody>\n",
       "    <tr>\n",
       "      <th>Infosys</th>\n",
       "      <td>0.002794</td>\n",
       "      <td>0.035070</td>\n",
       "    </tr>\n",
       "    <tr>\n",
       "      <th>Indian_Hotel</th>\n",
       "      <td>0.000266</td>\n",
       "      <td>0.047131</td>\n",
       "    </tr>\n",
       "    <tr>\n",
       "      <th>Mahindra_&amp;_Mahindra</th>\n",
       "      <td>-0.001506</td>\n",
       "      <td>0.040169</td>\n",
       "    </tr>\n",
       "    <tr>\n",
       "      <th>Axis_Bank</th>\n",
       "      <td>0.001167</td>\n",
       "      <td>0.045828</td>\n",
       "    </tr>\n",
       "    <tr>\n",
       "      <th>SAIL</th>\n",
       "      <td>-0.003463</td>\n",
       "      <td>0.062188</td>\n",
       "    </tr>\n",
       "    <tr>\n",
       "      <th>Shree_Cement</th>\n",
       "      <td>0.003681</td>\n",
       "      <td>0.039917</td>\n",
       "    </tr>\n",
       "    <tr>\n",
       "      <th>Sun_Pharma</th>\n",
       "      <td>-0.001455</td>\n",
       "      <td>0.045033</td>\n",
       "    </tr>\n",
       "    <tr>\n",
       "      <th>Jindal_Steel</th>\n",
       "      <td>-0.004123</td>\n",
       "      <td>0.075108</td>\n",
       "    </tr>\n",
       "    <tr>\n",
       "      <th>Idea_Vodafone</th>\n",
       "      <td>-0.010608</td>\n",
       "      <td>0.104315</td>\n",
       "    </tr>\n",
       "    <tr>\n",
       "      <th>Jet_Airways</th>\n",
       "      <td>-0.009548</td>\n",
       "      <td>0.097972</td>\n",
       "    </tr>\n",
       "  </tbody>\n",
       "</table>\n",
       "</div>"
      ],
      "text/plain": [
       "                      Average  Volatility\n",
       "Infosys              0.002794    0.035070\n",
       "Indian_Hotel         0.000266    0.047131\n",
       "Mahindra_&_Mahindra -0.001506    0.040169\n",
       "Axis_Bank            0.001167    0.045828\n",
       "SAIL                -0.003463    0.062188\n",
       "Shree_Cement         0.003681    0.039917\n",
       "Sun_Pharma          -0.001455    0.045033\n",
       "Jindal_Steel        -0.004123    0.075108\n",
       "Idea_Vodafone       -0.010608    0.104315\n",
       "Jet_Airways         -0.009548    0.097972"
      ]
     },
     "execution_count": 16,
     "metadata": {},
     "output_type": "execute_result"
    }
   ],
   "source": [
    "df_mu_std=pd.DataFrame({'Average':stock_means,'Volatility':stock_sd})\n",
    "df_mu_std"
   ]
  },
  {
   "cell_type": "code",
   "execution_count": 17,
   "id": "8dab4fff",
   "metadata": {},
   "outputs": [
    {
     "data": {
      "image/png": "[encoded data removed]",
      "text/plain": [
       "<Figure size 640x480 with 1 Axes>"
      ]
     },
     "metadata": {},
     "output_type": "display_data"
    }
   ],
   "source": [
    "plot=sns.scatterplot(df_mu_std['Volatility'],df_mu_std['Average'])\n",
    "plt.show()"
   ]
  },
  {
   "cell_type": "code",
   "execution_count": 18,
   "id": "00a8e443",
   "metadata": {},
   "outputs": [
    {
     "data": {
      "text/html": [
       "<div>\n",
       "<style scoped>\n",
       "    .dataframe tbody tr th:only-of-type {\n",
       "        vertical-align: middle;\n",
       "    }\n",
       "\n",
       "    .dataframe tbody tr th {\n",
       "        vertical-align: top;\n",
       "    }\n",
       "\n",
       "    .dataframe thead th {\n",
       "        text-align: right;\n",
       "    }\n",
       "</style>\n",
       "<table border=\"1\" class=\"dataframe\">\n",
       "  <thead>\n",
       "    <tr style=\"text-align: right;\">\n",
       "      <th></th>\n",
       "      <th>Average</th>\n",
       "      <th>Volatility</th>\n",
       "    </tr>\n",
       "  </thead>\n",
       "  <tbody>\n",
       "    <tr>\n",
       "      <th>Infosys</th>\n",
       "      <td>0.002794</td>\n",
       "      <td>0.035070</td>\n",
       "    </tr>\n",
       "    <tr>\n",
       "      <th>Shree_Cement</th>\n",
       "      <td>0.003681</td>\n",
       "      <td>0.039917</td>\n",
       "    </tr>\n",
       "  </tbody>\n",
       "</table>\n",
       "</div>"
      ],
      "text/plain": [
       "               Average  Volatility\n",
       "Infosys       0.002794    0.035070\n",
       "Shree_Cement  0.003681    0.039917"
      ]
     },
     "execution_count": 18,
     "metadata": {},
     "output_type": "execute_result"
    }
   ],
   "source": [
    "df_mu_std[(df_mu_std['Volatility']<0.05) & (df_mu_std['Average']>.002)]"
   ]
  },
  {
   "cell_type": "markdown",
   "id": "6fc8ea3e",
   "metadata": {},
   "source": [
    "PART B: Conclusions and Recommendations"
   ]
  },
  {
   "cell_type": "code",
   "execution_count": 27,
   "id": "96e0b162",
   "metadata": {},
   "outputs": [
    {
     "data": {
      "text/html": [
       "<div>\n",
       "<style scoped>\n",
       "    .dataframe tbody tr th:only-of-type {\n",
       "        vertical-align: middle;\n",
       "    }\n",
       "\n",
       "    .dataframe tbody tr th {\n",
       "        vertical-align: top;\n",
       "    }\n",
       "\n",
       "    .dataframe thead th {\n",
       "        text-align: right;\n",
       "    }\n",
       "</style>\n",
       "<table border=\"1\" class=\"dataframe\">\n",
       "  <thead>\n",
       "    <tr style=\"text-align: right;\">\n",
       "      <th></th>\n",
       "      <th>Average</th>\n",
       "      <th>Volatility</th>\n",
       "    </tr>\n",
       "  </thead>\n",
       "  <tbody>\n",
       "    <tr>\n",
       "      <th>Idea_Vodafone</th>\n",
       "      <td>-0.010608</td>\n",
       "      <td>0.104315</td>\n",
       "    </tr>\n",
       "    <tr>\n",
       "      <th>Jet_Airways</th>\n",
       "      <td>-0.009548</td>\n",
       "      <td>0.097972</td>\n",
       "    </tr>\n",
       "  </tbody>\n",
       "</table>\n",
       "</div>"
      ],
      "text/plain": [
       "                Average  Volatility\n",
       "Idea_Vodafone -0.010608    0.104315\n",
       "Jet_Airways   -0.009548    0.097972"
      ]
     },
     "execution_count": 27,
     "metadata": {},
     "output_type": "execute_result"
    }
   ],
   "source": [
    "df_mu_std[(df_mu_std['Volatility']>0.09) & (df_mu_std['Average']<-0.008)]"
   ]
  },
  {
   "cell_type": "code",
   "execution_count": null,
   "id": "0ea3b909",
   "metadata": {},
   "outputs": [],
   "source": []
  },
  {
   "cell_type": "code",
   "execution_count": null,
   "id": "9618188e",
   "metadata": {},
   "outputs": [],
   "source": []
  },
  {
   "cell_type": "code",
   "execution_count": null,
   "id": "6f764057",
   "metadata": {},
   "outputs": [],
   "source": []
  },
  {
   "cell_type": "code",
   "execution_count": null,
   "id": "8f46025c",
   "metadata": {},
   "outputs": [],
   "source": []
  },
  {
   "cell_type": "code",
   "execution_count": null,
   "id": "3ac79f6f",
   "metadata": {},
   "outputs": [],
   "source": []
  },
  {
   "cell_type": "code",
   "execution_count": null,
   "id": "9c0290d3",
   "metadata": {},
   "outputs": [],
   "source": []
  }
 ],
 "metadata": {
  "kernelspec": {
   "display_name": "Python 3 (ipykernel)",
   "language": "python",
   "name": "python3"
  },
  "language_info": {
   "codemirror_mode": {
    "name": "ipython",
    "version": 3
   },
   "file_extension": ".py",
   "mimetype": "text/x-python",
   "name": "python",
   "nbconvert_exporter": "python",
   "pygments_lexer": "ipython3",
   "version": "3.9.13"
  }
 },
 "nbformat": 4,
 "nbformat_minor": 5
}
